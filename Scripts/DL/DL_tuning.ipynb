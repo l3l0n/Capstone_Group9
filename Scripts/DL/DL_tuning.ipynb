{
 "cells": [
  {
   "cell_type": "code",
   "execution_count": 1,
   "outputs": [
    {
     "name": "stdout",
     "output_type": "stream",
     "text": [
      "Requirement already satisfied: netcdf4 in c:\\users\\leon0\\capstone\\lib\\site-packages (from -r ../../requirement.txt (line 1)) (1.6.5)\n",
      "Requirement already satisfied: optuna==3.5.0 in c:\\users\\leon0\\capstone\\lib\\site-packages (from -r ../../requirement.txt (line 2)) (3.5.0)\n",
      "Requirement already satisfied: torch in c:\\users\\leon0\\capstone\\lib\\site-packages (from -r ../../requirement.txt (line 3)) (2.1.2)\n",
      "Requirement already satisfied: numpy in c:\\users\\leon0\\capstone\\lib\\site-packages (from -r ../../requirement.txt (line 4)) (1.26.2)\n",
      "Requirement already satisfied: pandas in c:\\users\\leon0\\capstone\\lib\\site-packages (from -r ../../requirement.txt (line 5)) (2.1.3)\n",
      "Requirement already satisfied: f3dasm==1.4.5 in c:\\users\\leon0\\capstone\\lib\\site-packages (from -r ../../requirement.txt (line 6)) (1.4.5)\n",
      "Requirement already satisfied: xarray in c:\\users\\leon0\\capstone\\lib\\site-packages (from -r ../../requirement.txt (line 7)) (2023.11.0)\n",
      "Requirement already satisfied: scikit-learn==1.3.0 in c:\\users\\leon0\\capstone\\lib\\site-packages (from -r ../../requirement.txt (line 8)) (1.3.0)\n",
      "Requirement already satisfied: dask in c:\\users\\leon0\\capstone\\lib\\site-packages (from -r ../../requirement.txt (line 9)) (2023.11.0)\n",
      "Requirement already satisfied: seaborn in c:\\users\\leon0\\capstone\\lib\\site-packages (from -r ../../requirement.txt (line 10)) (0.13.1)\n",
      "Requirement already satisfied: matplotlib in c:\\users\\leon0\\capstone\\lib\\site-packages (from -r ../../requirement.txt (line 11)) (3.8.2)\n",
      "Requirement already satisfied: hypopt in c:\\users\\leon0\\capstone\\lib\\site-packages (from -r ../../requirement.txt (line 12)) (1.0.9)\n",
      "Requirement already satisfied: tabulate in c:\\users\\leon0\\capstone\\lib\\site-packages (from -r ../../requirement.txt (line 13)) (0.9.0)\n",
      "Requirement already satisfied: joblib in c:\\users\\leon0\\capstone\\lib\\site-packages (from -r ../../requirement.txt (line 14)) (1.3.2)\n",
      "Requirement already satisfied: alembic>=1.5.0 in c:\\users\\leon0\\capstone\\lib\\site-packages (from optuna==3.5.0->-r ../../requirement.txt (line 2)) (1.13.1)\n",
      "Requirement already satisfied: colorlog in c:\\users\\leon0\\capstone\\lib\\site-packages (from optuna==3.5.0->-r ../../requirement.txt (line 2)) (6.8.0)\n",
      "Requirement already satisfied: packaging>=20.0 in c:\\users\\leon0\\capstone\\lib\\site-packages (from optuna==3.5.0->-r ../../requirement.txt (line 2)) (23.2)\n",
      "Requirement already satisfied: sqlalchemy>=1.3.0 in c:\\users\\leon0\\capstone\\lib\\site-packages (from optuna==3.5.0->-r ../../requirement.txt (line 2)) (2.0.25)\n",
      "Requirement already satisfied: tqdm in c:\\users\\leon0\\capstone\\lib\\site-packages (from optuna==3.5.0->-r ../../requirement.txt (line 2)) (4.66.1)\n",
      "Requirement already satisfied: PyYAML in c:\\users\\leon0\\capstone\\lib\\site-packages (from optuna==3.5.0->-r ../../requirement.txt (line 2)) (6.0.1)\n",
      "Requirement already satisfied: scipy in c:\\users\\leon0\\capstone\\lib\\site-packages (from f3dasm==1.4.5->-r ../../requirement.txt (line 6)) (1.11.4)\n",
      "Requirement already satisfied: hydra-core in c:\\users\\leon0\\capstone\\lib\\site-packages (from f3dasm==1.4.5->-r ../../requirement.txt (line 6)) (1.3.2)\n",
      "Requirement already satisfied: pathos>=0.3.0 in c:\\users\\leon0\\capstone\\lib\\site-packages (from f3dasm==1.4.5->-r ../../requirement.txt (line 6)) (0.3.1)\n",
      "Requirement already satisfied: autograd in c:\\users\\leon0\\capstone\\lib\\site-packages (from f3dasm==1.4.5->-r ../../requirement.txt (line 6)) (1.6.2)\n",
      "Requirement already satisfied: SALib in c:\\users\\leon0\\capstone\\lib\\site-packages (from f3dasm==1.4.5->-r ../../requirement.txt (line 6)) (1.4.7)\n",
      "Requirement already satisfied: filelock in c:\\users\\leon0\\capstone\\lib\\site-packages (from f3dasm==1.4.5->-r ../../requirement.txt (line 6)) (3.13.1)\n",
      "Requirement already satisfied: threadpoolctl>=2.0.0 in c:\\users\\leon0\\capstone\\lib\\site-packages (from scikit-learn==1.3.0->-r ../../requirement.txt (line 8)) (3.2.0)\n",
      "Requirement already satisfied: cftime in c:\\users\\leon0\\capstone\\lib\\site-packages (from netcdf4->-r ../../requirement.txt (line 1)) (1.6.3)\n",
      "Requirement already satisfied: certifi in c:\\users\\leon0\\capstone\\lib\\site-packages (from netcdf4->-r ../../requirement.txt (line 1)) (2023.11.17)\n",
      "Requirement already satisfied: typing-extensions in c:\\users\\leon0\\capstone\\lib\\site-packages (from torch->-r ../../requirement.txt (line 3)) (4.9.0)\n",
      "Requirement already satisfied: sympy in c:\\users\\leon0\\capstone\\lib\\site-packages (from torch->-r ../../requirement.txt (line 3)) (1.12)\n",
      "Requirement already satisfied: networkx in c:\\users\\leon0\\capstone\\lib\\site-packages (from torch->-r ../../requirement.txt (line 3)) (3.2.1)\n",
      "Requirement already satisfied: jinja2 in c:\\users\\leon0\\capstone\\lib\\site-packages (from torch->-r ../../requirement.txt (line 3)) (3.1.3)\n",
      "Requirement already satisfied: fsspec in c:\\users\\leon0\\capstone\\lib\\site-packages (from torch->-r ../../requirement.txt (line 3)) (2023.10.0)\n",
      "Requirement already satisfied: python-dateutil>=2.8.2 in c:\\users\\leon0\\capstone\\lib\\site-packages (from pandas->-r ../../requirement.txt (line 5)) (2.8.2)\n",
      "Requirement already satisfied: pytz>=2020.1 in c:\\users\\leon0\\capstone\\lib\\site-packages (from pandas->-r ../../requirement.txt (line 5)) (2023.3.post1)\n",
      "Requirement already satisfied: tzdata>=2022.1 in c:\\users\\leon0\\capstone\\lib\\site-packages (from pandas->-r ../../requirement.txt (line 5)) (2023.3)\n",
      "Requirement already satisfied: click>=8.1 in c:\\users\\leon0\\capstone\\lib\\site-packages (from dask->-r ../../requirement.txt (line 9)) (8.1.7)\n",
      "Requirement already satisfied: cloudpickle>=1.5.0 in c:\\users\\leon0\\capstone\\lib\\site-packages (from dask->-r ../../requirement.txt (line 9)) (3.0.0)\n",
      "Requirement already satisfied: partd>=1.2.0 in c:\\users\\leon0\\capstone\\lib\\site-packages (from dask->-r ../../requirement.txt (line 9)) (1.4.1)\n",
      "Requirement already satisfied: toolz>=0.10.0 in c:\\users\\leon0\\capstone\\lib\\site-packages (from dask->-r ../../requirement.txt (line 9)) (0.12.0)\n",
      "Requirement already satisfied: importlib-metadata>=4.13.0 in c:\\users\\leon0\\capstone\\lib\\site-packages (from dask->-r ../../requirement.txt (line 9)) (6.8.0)\n",
      "Requirement already satisfied: contourpy>=1.0.1 in c:\\users\\leon0\\capstone\\lib\\site-packages (from matplotlib->-r ../../requirement.txt (line 11)) (1.2.0)\n",
      "Requirement already satisfied: cycler>=0.10 in c:\\users\\leon0\\capstone\\lib\\site-packages (from matplotlib->-r ../../requirement.txt (line 11)) (0.12.1)\n",
      "Requirement already satisfied: fonttools>=4.22.0 in c:\\users\\leon0\\capstone\\lib\\site-packages (from matplotlib->-r ../../requirement.txt (line 11)) (4.45.0)\n",
      "Requirement already satisfied: kiwisolver>=1.3.1 in c:\\users\\leon0\\capstone\\lib\\site-packages (from matplotlib->-r ../../requirement.txt (line 11)) (1.4.5)\n",
      "Requirement already satisfied: pillow>=8 in c:\\users\\leon0\\capstone\\lib\\site-packages (from matplotlib->-r ../../requirement.txt (line 11)) (10.1.0)\n",
      "Requirement already satisfied: pyparsing>=2.3.1 in c:\\users\\leon0\\capstone\\lib\\site-packages (from matplotlib->-r ../../requirement.txt (line 11)) (3.1.1)\n",
      "Requirement already satisfied: Mako in c:\\users\\leon0\\capstone\\lib\\site-packages (from alembic>=1.5.0->optuna==3.5.0->-r ../../requirement.txt (line 2)) (1.3.0)\n",
      "Requirement already satisfied: colorama in c:\\users\\leon0\\capstone\\lib\\site-packages (from click>=8.1->dask->-r ../../requirement.txt (line 9)) (0.4.6)\n",
      "Requirement already satisfied: zipp>=0.5 in c:\\users\\leon0\\capstone\\lib\\site-packages (from importlib-metadata>=4.13.0->dask->-r ../../requirement.txt (line 9)) (3.17.0)\n",
      "Requirement already satisfied: locket in c:\\users\\leon0\\capstone\\lib\\site-packages (from partd>=1.2.0->dask->-r ../../requirement.txt (line 9)) (1.0.0)\n",
      "Requirement already satisfied: ppft>=1.7.6.7 in c:\\users\\leon0\\capstone\\lib\\site-packages (from pathos>=0.3.0->f3dasm==1.4.5->-r ../../requirement.txt (line 6)) (1.7.6.7)\n",
      "Requirement already satisfied: dill>=0.3.7 in c:\\users\\leon0\\capstone\\lib\\site-packages (from pathos>=0.3.0->f3dasm==1.4.5->-r ../../requirement.txt (line 6)) (0.3.7)\n",
      "Requirement already satisfied: pox>=0.3.3 in c:\\users\\leon0\\capstone\\lib\\site-packages (from pathos>=0.3.0->f3dasm==1.4.5->-r ../../requirement.txt (line 6)) (0.3.3)\n",
      "Requirement already satisfied: multiprocess>=0.70.15 in c:\\users\\leon0\\capstone\\lib\\site-packages (from pathos>=0.3.0->f3dasm==1.4.5->-r ../../requirement.txt (line 6)) (0.70.15)\n",
      "Requirement already satisfied: six>=1.5 in c:\\users\\leon0\\capstone\\lib\\site-packages (from python-dateutil>=2.8.2->pandas->-r ../../requirement.txt (line 5)) (1.16.0)\n",
      "Requirement already satisfied: greenlet!=0.4.17 in c:\\users\\leon0\\capstone\\lib\\site-packages (from sqlalchemy>=1.3.0->optuna==3.5.0->-r ../../requirement.txt (line 2)) (3.0.3)\n",
      "Requirement already satisfied: future>=0.15.2 in c:\\users\\leon0\\capstone\\lib\\site-packages (from autograd->f3dasm==1.4.5->-r ../../requirement.txt (line 6)) (0.18.3)\n",
      "Requirement already satisfied: omegaconf<2.4,>=2.2 in c:\\users\\leon0\\capstone\\lib\\site-packages (from hydra-core->f3dasm==1.4.5->-r ../../requirement.txt (line 6)) (2.3.0)\n",
      "Requirement already satisfied: antlr4-python3-runtime==4.9.* in c:\\users\\leon0\\capstone\\lib\\site-packages (from hydra-core->f3dasm==1.4.5->-r ../../requirement.txt (line 6)) (4.9.3)\n",
      "Requirement already satisfied: MarkupSafe>=2.0 in c:\\users\\leon0\\capstone\\lib\\site-packages (from jinja2->torch->-r ../../requirement.txt (line 3)) (2.1.3)\n",
      "Requirement already satisfied: mpmath>=0.19 in c:\\users\\leon0\\capstone\\lib\\site-packages (from sympy->torch->-r ../../requirement.txt (line 3)) (1.3.0)\n",
      "Note: you may need to restart the kernel to use updated packages.\n"
     ]
    }
   ],
   "source": [
    "pip install -r \"../../requirement.txt\""
   ],
   "metadata": {
    "collapsed": false,
    "ExecuteTime": {
     "end_time": "2024-01-26T21:01:05.435142300Z",
     "start_time": "2024-01-26T21:01:03.353787900Z"
    }
   },
   "id": "8b5a4d2d90e1490a"
  },
  {
   "cell_type": "code",
   "execution_count": 2,
   "outputs": [],
   "source": [
    "import sys\n",
    "import os\n",
    "dirname = os.path.abspath('')\n",
    "pardir = os.path.abspath(os.path.join(dirname, os.pardir))    \n",
    "sys.path.append(os.path.join(dirname, 'tools/'))\n",
    "\n",
    "from tools.DatasetExtraction import extract\n",
    "import tools.UsefulFunctions as uf\n",
    "import torch.nn as nn\n",
    "import optuna\n",
    "from optuna.trial import TrialState\n",
    "import torch.optim as optim\n",
    "import torch.utils.data\n",
    "from torch.utils.data import DataLoader, TensorDataset"
   ],
   "metadata": {
    "collapsed": false,
    "ExecuteTime": {
     "end_time": "2024-01-26T21:01:08.804684500Z",
     "start_time": "2024-01-26T21:01:05.438135400Z"
    }
   },
   "id": "initial_id"
  },
  {
   "cell_type": "code",
   "execution_count": 3,
   "outputs": [],
   "source": [
    "#Constants\n",
    "\n",
    "RANDOM_STATE = 42\n",
    "VAL_SIZE = 0.2"
   ],
   "metadata": {
    "collapsed": false,
    "ExecuteTime": {
     "end_time": "2024-01-26T21:01:08.821641300Z",
     "start_time": "2024-01-26T21:01:08.808675200Z"
    }
   },
   "id": "a45ed63fe9760245"
  },
  {
   "cell_type": "markdown",
   "source": [
    "## Data Preparation"
   ],
   "metadata": {
    "collapsed": false
   },
   "id": "3b44e0e17e24ea56"
  },
  {
   "cell_type": "code",
   "execution_count": 4,
   "outputs": [
    {
     "name": "stdout",
     "output_type": "stream",
     "text": [
      "dataset loaded\n",
      "features loaded\n",
      "labels loaded\n"
     ]
    }
   ],
   "source": [
    "#Extract dataset\n",
    "\n",
    "name = 'big_dataset'\n",
    "\n",
    "X, yID, dataset = extract(name)"
   ],
   "metadata": {
    "collapsed": false,
    "ExecuteTime": {
     "end_time": "2024-01-26T21:01:09.109884400Z",
     "start_time": "2024-01-26T21:01:08.822637Z"
    }
   },
   "id": "ef4ce041568888af"
  },
  {
   "cell_type": "code",
   "execution_count": 5,
   "outputs": [],
   "source": [
    "#Split the dataset\n",
    "\n",
    "Xs, ys, datasets = uf.split(X, yID, dataset, VAL_SIZE, RANDOM_STATE)\n",
    "\n",
    "X_train, X_val = Xs\n",
    "y_train, y_val = ys\n",
    "dataset_train, dataset_val = datasets"
   ],
   "metadata": {
    "collapsed": false,
    "ExecuteTime": {
     "end_time": "2024-01-26T21:01:09.161748700Z",
     "start_time": "2024-01-26T21:01:09.101907100Z"
    }
   },
   "id": "7ddd74b8c6441ab3"
  },
  {
   "cell_type": "code",
   "execution_count": 6,
   "outputs": [],
   "source": [
    "#Encode labels and move to available GPU\n",
    "\n",
    "classes = ('CMAES', 'PSO', 'Adam', 'LBFGSB', 'RandomSearch')\n",
    "device = torch.device(\"cuda:0\" if torch.cuda.is_available() else \"cpu\")\n",
    "\n",
    "y_train_enc, y_val_enc = uf.encode_y(ys, classes, device)"
   ],
   "metadata": {
    "collapsed": false,
    "ExecuteTime": {
     "end_time": "2024-01-26T21:01:09.174712300Z",
     "start_time": "2024-01-26T21:01:09.161748700Z"
    }
   },
   "id": "509df97a3e36c9b1"
  },
  {
   "cell_type": "code",
   "execution_count": 7,
   "outputs": [],
   "source": [
    "#Preprocess and scale features\n",
    "\n",
    "X_train, X_val = uf.preprocess_X([X_train, X_val], device)\n",
    "\n",
    "scaler = uf.TorchStandardScaler()\n",
    "scaler.fit(X_train[:,:32])\n",
    "\n",
    "X_train, X_val = uf.scale([X_train, X_val], scaler)"
   ],
   "metadata": {
    "collapsed": false,
    "ExecuteTime": {
     "end_time": "2024-01-26T21:01:09.209617Z",
     "start_time": "2024-01-26T21:01:09.176705600Z"
    }
   },
   "id": "a5c4db62ba908ebd"
  },
  {
   "cell_type": "code",
   "execution_count": 8,
   "outputs": [],
   "source": [
    "#Create tensor datasets\n",
    "\n",
    "train_set = TensorDataset(X_train, y_train_enc)\n",
    "val_set = TensorDataset(X_val, y_val_enc)"
   ],
   "metadata": {
    "collapsed": false,
    "ExecuteTime": {
     "end_time": "2024-01-26T21:01:09.224580100Z",
     "start_time": "2024-01-26T21:01:09.208619400Z"
    }
   },
   "id": "3e59c0ed68342633"
  },
  {
   "cell_type": "markdown",
   "source": [
    "## Hyperparameter tuning with Optuna"
   ],
   "metadata": {
    "collapsed": false
   },
   "id": "5f9ae1b34eb78445"
  },
  {
   "cell_type": "code",
   "execution_count": 9,
   "outputs": [],
   "source": [
    "#Tuning functions\n",
    "\n",
    "def define_model(trial):\n",
    "    # We optimize the number of layers, hidden units and dropout ratio.\n",
    "    \n",
    "    n_layers = trial.suggest_int(\"n_layers\", 3, 10)  \n",
    "    n_hidden_units = trial.suggest_int(\"n_hidden_units\", 4, 1000)\n",
    "    k_dropout = trial.suggest_float(\"k_dropout\", 0, 1)\n",
    "    \n",
    "    model = uf.Net(n_layers, n_hidden_units, k_dropout)\n",
    "\n",
    "    return model\n",
    "\n",
    "def objective(trial):\n",
    "    # Generate the model.\n",
    "    model = define_model(trial).to(device)\n",
    "    \n",
    "    lr = trial.suggest_float(\"lr\", 1e-6, 1e-1, log=True)\n",
    "    weight_decay = trial.suggest_float(\"weight_decay\", 1e-6, 1e-1, log=True)\n",
    "    optimizer = optim.Adam(model.parameters(), lr=lr, weight_decay=weight_decay)\n",
    "    \n",
    "    criterion = nn.CrossEntropyLoss()\n",
    "    criterion = criterion.to(device)\n",
    "    \n",
    "    batch_size = trial.suggest_int(\"batch_size\", 32, 2048, log=True)\n",
    "    \n",
    "    train_loader_hype = DataLoader(train_set, batch_size=batch_size, shuffle=True)\n",
    "    val_loader_hype = DataLoader(val_set, batch_size=batch_size)\n",
    "    \n",
    "    epochs = 100\n",
    "    \n",
    "    early_stopper = uf.EarlyStopper(10, 1)\n",
    "    \n",
    "    # Training of the model.\n",
    "    for epoch in range(epochs):\n",
    "        model.train()\n",
    "        uf.train(train_loader_hype, model, optimizer, criterion)\n",
    "\n",
    "        # Validation of the model.\n",
    "        model.eval()\n",
    "        loss, accuracy = uf.test(val_loader_hype, model, criterion)\n",
    "        \n",
    "        trial.report(accuracy, epoch)\n",
    "\n",
    "        # Handle pruning based on the intermediate value.\n",
    "        if trial.should_prune():\n",
    "            raise optuna.exceptions.TrialPruned()\n",
    "\n",
    "        if early_stopper.early_stop(accuracy):\n",
    "            break\n",
    "        \n",
    "    return accuracy"
   ],
   "metadata": {
    "collapsed": false,
    "ExecuteTime": {
     "end_time": "2024-01-26T21:01:09.243525900Z",
     "start_time": "2024-01-26T21:01:09.228566700Z"
    }
   },
   "id": "c52313a6f36e7724"
  },
  {
   "cell_type": "code",
   "execution_count": 10,
   "outputs": [
    {
     "name": "stderr",
     "output_type": "stream",
     "text": [
      "[I 2024-01-26 22:01:09,242] A new study created in memory with name: no-name-d022e4ea-054a-401a-b148-ae133d055d64\n"
     ]
    },
    {
     "data": {
      "text/plain": "   0%|          | 00:00/5:00:00",
      "application/vnd.jupyter.widget-view+json": {
       "version_major": 2,
       "version_minor": 0,
       "model_id": "1bb3bc6243f142c98fcb75f4d9e53379"
      }
     },
     "metadata": {},
     "output_type": "display_data"
    },
    {
     "name": "stdout",
     "output_type": "stream",
     "text": [
      "[W 2024-01-26 22:01:18,892] Trial 0 failed with parameters: {'n_layers': 8, 'n_hidden_units': 260, 'k_dropout': 0.8165412259536566, 'lr': 0.000240140189237824, 'weight_decay': 0.035908929339923096, 'batch_size': 667} because of the following error: KeyboardInterrupt().\n",
      "Traceback (most recent call last):\n",
      "  File \"C:\\Users\\leon0\\Capstone\\lib\\site-packages\\optuna\\study\\_optimize.py\", line 200, in _run_trial\n",
      "    value_or_values = func(trial)\n",
      "  File \"C:\\Users\\leon0\\AppData\\Local\\Temp\\ipykernel_12908\\2917186360.py\", line 37, in objective\n",
      "    uf.train(train_loader_hype, model, optimizer, criterion)\n",
      "  File \"C:\\Users\\leon0\\Desktop\\Engineering with AI\\Capstone\\Repository\\CapstoneAI_TU_2023-2024\\Scripts\\DL\\tools\\UsefulFunctions.py\", line 159, in train\n",
      "    optimizer.zero_grad()\n",
      "  File \"C:\\Users\\leon0\\Capstone\\lib\\site-packages\\torch\\_compile.py\", line 24, in inner\n",
      "    return torch._dynamo.disable(fn, recursive)(*args, **kwargs)\n",
      "  File \"C:\\Users\\leon0\\Capstone\\lib\\site-packages\\torch\\_dynamo\\eval_frame.py\", line 328, in _fn\n",
      "    return fn(*args, **kwargs)\n",
      "  File \"C:\\Users\\leon0\\Capstone\\lib\\site-packages\\torch\\optim\\optimizer.py\", line 803, in zero_grad\n",
      "    with torch.autograd.profiler.record_function(self._zero_grad_profile_name):\n",
      "  File \"C:\\Users\\leon0\\Capstone\\lib\\site-packages\\torch\\autograd\\profiler.py\", line 631, in __enter__\n",
      "    self.record = torch.ops.profiler._record_function_enter_new(\n",
      "  File \"C:\\Users\\leon0\\Capstone\\lib\\site-packages\\torch\\_ops.py\", line 692, in __call__\n",
      "    return self._op(*args, **kwargs or {})\n",
      "KeyboardInterrupt\n",
      "[W 2024-01-26 22:01:18,938] Trial 0 failed with value None.\n"
     ]
    },
    {
     "ename": "KeyboardInterrupt",
     "evalue": "",
     "output_type": "error",
     "traceback": [
      "\u001B[1;31m---------------------------------------------------------------------------\u001B[0m",
      "\u001B[1;31mKeyboardInterrupt\u001B[0m                         Traceback (most recent call last)",
      "Cell \u001B[1;32mIn[10], line 4\u001B[0m\n\u001B[0;32m      1\u001B[0m \u001B[38;5;66;03m#Tuning run\u001B[39;00m\n\u001B[0;32m      3\u001B[0m study \u001B[38;5;241m=\u001B[39m optuna\u001B[38;5;241m.\u001B[39mcreate_study(direction\u001B[38;5;241m=\u001B[39m\u001B[38;5;124m\"\u001B[39m\u001B[38;5;124mmaximize\u001B[39m\u001B[38;5;124m\"\u001B[39m)\n\u001B[1;32m----> 4\u001B[0m \u001B[43mstudy\u001B[49m\u001B[38;5;241;43m.\u001B[39;49m\u001B[43moptimize\u001B[49m\u001B[43m(\u001B[49m\u001B[43mobjective\u001B[49m\u001B[43m,\u001B[49m\u001B[43m \u001B[49m\u001B[43mtimeout\u001B[49m\u001B[38;5;241;43m=\u001B[39;49m\u001B[38;5;241;43m5\u001B[39;49m\u001B[38;5;241;43m*\u001B[39;49m\u001B[38;5;241;43m3600\u001B[39;49m\u001B[43m,\u001B[49m\u001B[43m \u001B[49m\u001B[43mshow_progress_bar\u001B[49m\u001B[38;5;241;43m=\u001B[39;49m\u001B[38;5;28;43;01mTrue\u001B[39;49;00m\u001B[43m)\u001B[49m\n\u001B[0;32m      6\u001B[0m pruned_trials \u001B[38;5;241m=\u001B[39m study\u001B[38;5;241m.\u001B[39mget_trials(deepcopy\u001B[38;5;241m=\u001B[39m\u001B[38;5;28;01mFalse\u001B[39;00m, states\u001B[38;5;241m=\u001B[39m[TrialState\u001B[38;5;241m.\u001B[39mPRUNED])\n\u001B[0;32m      7\u001B[0m complete_trials \u001B[38;5;241m=\u001B[39m study\u001B[38;5;241m.\u001B[39mget_trials(deepcopy\u001B[38;5;241m=\u001B[39m\u001B[38;5;28;01mFalse\u001B[39;00m, states\u001B[38;5;241m=\u001B[39m[TrialState\u001B[38;5;241m.\u001B[39mCOMPLETE])\n",
      "File \u001B[1;32m~\\Capstone\\lib\\site-packages\\optuna\\study\\study.py:451\u001B[0m, in \u001B[0;36mStudy.optimize\u001B[1;34m(self, func, n_trials, timeout, n_jobs, catch, callbacks, gc_after_trial, show_progress_bar)\u001B[0m\n\u001B[0;32m    348\u001B[0m \u001B[38;5;28;01mdef\u001B[39;00m \u001B[38;5;21moptimize\u001B[39m(\n\u001B[0;32m    349\u001B[0m     \u001B[38;5;28mself\u001B[39m,\n\u001B[0;32m    350\u001B[0m     func: ObjectiveFuncType,\n\u001B[1;32m   (...)\u001B[0m\n\u001B[0;32m    357\u001B[0m     show_progress_bar: \u001B[38;5;28mbool\u001B[39m \u001B[38;5;241m=\u001B[39m \u001B[38;5;28;01mFalse\u001B[39;00m,\n\u001B[0;32m    358\u001B[0m ) \u001B[38;5;241m-\u001B[39m\u001B[38;5;241m>\u001B[39m \u001B[38;5;28;01mNone\u001B[39;00m:\n\u001B[0;32m    359\u001B[0m \u001B[38;5;250m    \u001B[39m\u001B[38;5;124;03m\"\"\"Optimize an objective function.\u001B[39;00m\n\u001B[0;32m    360\u001B[0m \n\u001B[0;32m    361\u001B[0m \u001B[38;5;124;03m    Optimization is done by choosing a suitable set of hyperparameter values from a given\u001B[39;00m\n\u001B[1;32m   (...)\u001B[0m\n\u001B[0;32m    449\u001B[0m \u001B[38;5;124;03m            If nested invocation of this method occurs.\u001B[39;00m\n\u001B[0;32m    450\u001B[0m \u001B[38;5;124;03m    \"\"\"\u001B[39;00m\n\u001B[1;32m--> 451\u001B[0m     \u001B[43m_optimize\u001B[49m\u001B[43m(\u001B[49m\n\u001B[0;32m    452\u001B[0m \u001B[43m        \u001B[49m\u001B[43mstudy\u001B[49m\u001B[38;5;241;43m=\u001B[39;49m\u001B[38;5;28;43mself\u001B[39;49m\u001B[43m,\u001B[49m\n\u001B[0;32m    453\u001B[0m \u001B[43m        \u001B[49m\u001B[43mfunc\u001B[49m\u001B[38;5;241;43m=\u001B[39;49m\u001B[43mfunc\u001B[49m\u001B[43m,\u001B[49m\n\u001B[0;32m    454\u001B[0m \u001B[43m        \u001B[49m\u001B[43mn_trials\u001B[49m\u001B[38;5;241;43m=\u001B[39;49m\u001B[43mn_trials\u001B[49m\u001B[43m,\u001B[49m\n\u001B[0;32m    455\u001B[0m \u001B[43m        \u001B[49m\u001B[43mtimeout\u001B[49m\u001B[38;5;241;43m=\u001B[39;49m\u001B[43mtimeout\u001B[49m\u001B[43m,\u001B[49m\n\u001B[0;32m    456\u001B[0m \u001B[43m        \u001B[49m\u001B[43mn_jobs\u001B[49m\u001B[38;5;241;43m=\u001B[39;49m\u001B[43mn_jobs\u001B[49m\u001B[43m,\u001B[49m\n\u001B[0;32m    457\u001B[0m \u001B[43m        \u001B[49m\u001B[43mcatch\u001B[49m\u001B[38;5;241;43m=\u001B[39;49m\u001B[38;5;28;43mtuple\u001B[39;49m\u001B[43m(\u001B[49m\u001B[43mcatch\u001B[49m\u001B[43m)\u001B[49m\u001B[43m \u001B[49m\u001B[38;5;28;43;01mif\u001B[39;49;00m\u001B[43m \u001B[49m\u001B[38;5;28;43misinstance\u001B[39;49m\u001B[43m(\u001B[49m\u001B[43mcatch\u001B[49m\u001B[43m,\u001B[49m\u001B[43m \u001B[49m\u001B[43mIterable\u001B[49m\u001B[43m)\u001B[49m\u001B[43m \u001B[49m\u001B[38;5;28;43;01melse\u001B[39;49;00m\u001B[43m \u001B[49m\u001B[43m(\u001B[49m\u001B[43mcatch\u001B[49m\u001B[43m,\u001B[49m\u001B[43m)\u001B[49m\u001B[43m,\u001B[49m\n\u001B[0;32m    458\u001B[0m \u001B[43m        \u001B[49m\u001B[43mcallbacks\u001B[49m\u001B[38;5;241;43m=\u001B[39;49m\u001B[43mcallbacks\u001B[49m\u001B[43m,\u001B[49m\n\u001B[0;32m    459\u001B[0m \u001B[43m        \u001B[49m\u001B[43mgc_after_trial\u001B[49m\u001B[38;5;241;43m=\u001B[39;49m\u001B[43mgc_after_trial\u001B[49m\u001B[43m,\u001B[49m\n\u001B[0;32m    460\u001B[0m \u001B[43m        \u001B[49m\u001B[43mshow_progress_bar\u001B[49m\u001B[38;5;241;43m=\u001B[39;49m\u001B[43mshow_progress_bar\u001B[49m\u001B[43m,\u001B[49m\n\u001B[0;32m    461\u001B[0m \u001B[43m    \u001B[49m\u001B[43m)\u001B[49m\n",
      "File \u001B[1;32m~\\Capstone\\lib\\site-packages\\optuna\\study\\_optimize.py:66\u001B[0m, in \u001B[0;36m_optimize\u001B[1;34m(study, func, n_trials, timeout, n_jobs, catch, callbacks, gc_after_trial, show_progress_bar)\u001B[0m\n\u001B[0;32m     64\u001B[0m \u001B[38;5;28;01mtry\u001B[39;00m:\n\u001B[0;32m     65\u001B[0m     \u001B[38;5;28;01mif\u001B[39;00m n_jobs \u001B[38;5;241m==\u001B[39m \u001B[38;5;241m1\u001B[39m:\n\u001B[1;32m---> 66\u001B[0m         \u001B[43m_optimize_sequential\u001B[49m\u001B[43m(\u001B[49m\n\u001B[0;32m     67\u001B[0m \u001B[43m            \u001B[49m\u001B[43mstudy\u001B[49m\u001B[43m,\u001B[49m\n\u001B[0;32m     68\u001B[0m \u001B[43m            \u001B[49m\u001B[43mfunc\u001B[49m\u001B[43m,\u001B[49m\n\u001B[0;32m     69\u001B[0m \u001B[43m            \u001B[49m\u001B[43mn_trials\u001B[49m\u001B[43m,\u001B[49m\n\u001B[0;32m     70\u001B[0m \u001B[43m            \u001B[49m\u001B[43mtimeout\u001B[49m\u001B[43m,\u001B[49m\n\u001B[0;32m     71\u001B[0m \u001B[43m            \u001B[49m\u001B[43mcatch\u001B[49m\u001B[43m,\u001B[49m\n\u001B[0;32m     72\u001B[0m \u001B[43m            \u001B[49m\u001B[43mcallbacks\u001B[49m\u001B[43m,\u001B[49m\n\u001B[0;32m     73\u001B[0m \u001B[43m            \u001B[49m\u001B[43mgc_after_trial\u001B[49m\u001B[43m,\u001B[49m\n\u001B[0;32m     74\u001B[0m \u001B[43m            \u001B[49m\u001B[43mreseed_sampler_rng\u001B[49m\u001B[38;5;241;43m=\u001B[39;49m\u001B[38;5;28;43;01mFalse\u001B[39;49;00m\u001B[43m,\u001B[49m\n\u001B[0;32m     75\u001B[0m \u001B[43m            \u001B[49m\u001B[43mtime_start\u001B[49m\u001B[38;5;241;43m=\u001B[39;49m\u001B[38;5;28;43;01mNone\u001B[39;49;00m\u001B[43m,\u001B[49m\n\u001B[0;32m     76\u001B[0m \u001B[43m            \u001B[49m\u001B[43mprogress_bar\u001B[49m\u001B[38;5;241;43m=\u001B[39;49m\u001B[43mprogress_bar\u001B[49m\u001B[43m,\u001B[49m\n\u001B[0;32m     77\u001B[0m \u001B[43m        \u001B[49m\u001B[43m)\u001B[49m\n\u001B[0;32m     78\u001B[0m     \u001B[38;5;28;01melse\u001B[39;00m:\n\u001B[0;32m     79\u001B[0m         \u001B[38;5;28;01mif\u001B[39;00m n_jobs \u001B[38;5;241m==\u001B[39m \u001B[38;5;241m-\u001B[39m\u001B[38;5;241m1\u001B[39m:\n",
      "File \u001B[1;32m~\\Capstone\\lib\\site-packages\\optuna\\study\\_optimize.py:163\u001B[0m, in \u001B[0;36m_optimize_sequential\u001B[1;34m(study, func, n_trials, timeout, catch, callbacks, gc_after_trial, reseed_sampler_rng, time_start, progress_bar)\u001B[0m\n\u001B[0;32m    160\u001B[0m         \u001B[38;5;28;01mbreak\u001B[39;00m\n\u001B[0;32m    162\u001B[0m \u001B[38;5;28;01mtry\u001B[39;00m:\n\u001B[1;32m--> 163\u001B[0m     frozen_trial \u001B[38;5;241m=\u001B[39m \u001B[43m_run_trial\u001B[49m\u001B[43m(\u001B[49m\u001B[43mstudy\u001B[49m\u001B[43m,\u001B[49m\u001B[43m \u001B[49m\u001B[43mfunc\u001B[49m\u001B[43m,\u001B[49m\u001B[43m \u001B[49m\u001B[43mcatch\u001B[49m\u001B[43m)\u001B[49m\n\u001B[0;32m    164\u001B[0m \u001B[38;5;28;01mfinally\u001B[39;00m:\n\u001B[0;32m    165\u001B[0m     \u001B[38;5;66;03m# The following line mitigates memory problems that can be occurred in some\u001B[39;00m\n\u001B[0;32m    166\u001B[0m     \u001B[38;5;66;03m# environments (e.g., services that use computing containers such as GitHub Actions).\u001B[39;00m\n\u001B[0;32m    167\u001B[0m     \u001B[38;5;66;03m# Please refer to the following PR for further details:\u001B[39;00m\n\u001B[0;32m    168\u001B[0m     \u001B[38;5;66;03m# https://github.com/optuna/optuna/pull/325.\u001B[39;00m\n\u001B[0;32m    169\u001B[0m     \u001B[38;5;28;01mif\u001B[39;00m gc_after_trial:\n",
      "File \u001B[1;32m~\\Capstone\\lib\\site-packages\\optuna\\study\\_optimize.py:251\u001B[0m, in \u001B[0;36m_run_trial\u001B[1;34m(study, func, catch)\u001B[0m\n\u001B[0;32m    244\u001B[0m         \u001B[38;5;28;01massert\u001B[39;00m \u001B[38;5;28;01mFalse\u001B[39;00m, \u001B[38;5;124m\"\u001B[39m\u001B[38;5;124mShould not reach.\u001B[39m\u001B[38;5;124m\"\u001B[39m\n\u001B[0;32m    246\u001B[0m \u001B[38;5;28;01mif\u001B[39;00m (\n\u001B[0;32m    247\u001B[0m     frozen_trial\u001B[38;5;241m.\u001B[39mstate \u001B[38;5;241m==\u001B[39m TrialState\u001B[38;5;241m.\u001B[39mFAIL\n\u001B[0;32m    248\u001B[0m     \u001B[38;5;129;01mand\u001B[39;00m func_err \u001B[38;5;129;01mis\u001B[39;00m \u001B[38;5;129;01mnot\u001B[39;00m \u001B[38;5;28;01mNone\u001B[39;00m\n\u001B[0;32m    249\u001B[0m     \u001B[38;5;129;01mand\u001B[39;00m \u001B[38;5;129;01mnot\u001B[39;00m \u001B[38;5;28misinstance\u001B[39m(func_err, catch)\n\u001B[0;32m    250\u001B[0m ):\n\u001B[1;32m--> 251\u001B[0m     \u001B[38;5;28;01mraise\u001B[39;00m func_err\n\u001B[0;32m    252\u001B[0m \u001B[38;5;28;01mreturn\u001B[39;00m frozen_trial\n",
      "File \u001B[1;32m~\\Capstone\\lib\\site-packages\\optuna\\study\\_optimize.py:200\u001B[0m, in \u001B[0;36m_run_trial\u001B[1;34m(study, func, catch)\u001B[0m\n\u001B[0;32m    198\u001B[0m \u001B[38;5;28;01mwith\u001B[39;00m get_heartbeat_thread(trial\u001B[38;5;241m.\u001B[39m_trial_id, study\u001B[38;5;241m.\u001B[39m_storage):\n\u001B[0;32m    199\u001B[0m     \u001B[38;5;28;01mtry\u001B[39;00m:\n\u001B[1;32m--> 200\u001B[0m         value_or_values \u001B[38;5;241m=\u001B[39m \u001B[43mfunc\u001B[49m\u001B[43m(\u001B[49m\u001B[43mtrial\u001B[49m\u001B[43m)\u001B[49m\n\u001B[0;32m    201\u001B[0m     \u001B[38;5;28;01mexcept\u001B[39;00m exceptions\u001B[38;5;241m.\u001B[39mTrialPruned \u001B[38;5;28;01mas\u001B[39;00m e:\n\u001B[0;32m    202\u001B[0m         \u001B[38;5;66;03m# TODO(mamu): Handle multi-objective cases.\u001B[39;00m\n\u001B[0;32m    203\u001B[0m         state \u001B[38;5;241m=\u001B[39m TrialState\u001B[38;5;241m.\u001B[39mPRUNED\n",
      "Cell \u001B[1;32mIn[9], line 37\u001B[0m, in \u001B[0;36mobjective\u001B[1;34m(trial)\u001B[0m\n\u001B[0;32m     35\u001B[0m \u001B[38;5;28;01mfor\u001B[39;00m epoch \u001B[38;5;129;01min\u001B[39;00m \u001B[38;5;28mrange\u001B[39m(epochs):\n\u001B[0;32m     36\u001B[0m     model\u001B[38;5;241m.\u001B[39mtrain()\n\u001B[1;32m---> 37\u001B[0m     \u001B[43muf\u001B[49m\u001B[38;5;241;43m.\u001B[39;49m\u001B[43mtrain\u001B[49m\u001B[43m(\u001B[49m\u001B[43mtrain_loader_hype\u001B[49m\u001B[43m,\u001B[49m\u001B[43m \u001B[49m\u001B[43mmodel\u001B[49m\u001B[43m,\u001B[49m\u001B[43m \u001B[49m\u001B[43moptimizer\u001B[49m\u001B[43m,\u001B[49m\u001B[43m \u001B[49m\u001B[43mcriterion\u001B[49m\u001B[43m)\u001B[49m\n\u001B[0;32m     39\u001B[0m     \u001B[38;5;66;03m# Validation of the model.\u001B[39;00m\n\u001B[0;32m     40\u001B[0m     model\u001B[38;5;241m.\u001B[39meval()\n",
      "File \u001B[1;32m~\\Desktop\\Engineering with AI\\Capstone\\Repository\\CapstoneAI_TU_2023-2024\\Scripts\\DL\\tools\\UsefulFunctions.py:159\u001B[0m, in \u001B[0;36mtrain\u001B[1;34m(train_loader, net, optimizer, criterion)\u001B[0m\n\u001B[0;32m    156\u001B[0m inputs, labels \u001B[38;5;241m=\u001B[39m data\n\u001B[0;32m    158\u001B[0m \u001B[38;5;66;03m# zero the parameter gradients\u001B[39;00m\n\u001B[1;32m--> 159\u001B[0m \u001B[43moptimizer\u001B[49m\u001B[38;5;241;43m.\u001B[39;49m\u001B[43mzero_grad\u001B[49m\u001B[43m(\u001B[49m\u001B[43m)\u001B[49m\n\u001B[0;32m    161\u001B[0m \u001B[38;5;66;03m# forward + backward + optimize\u001B[39;00m\n\u001B[0;32m    162\u001B[0m outputs \u001B[38;5;241m=\u001B[39m net(inputs)\n",
      "File \u001B[1;32m~\\Capstone\\lib\\site-packages\\torch\\_compile.py:24\u001B[0m, in \u001B[0;36m_disable_dynamo.<locals>.inner\u001B[1;34m(*args, **kwargs)\u001B[0m\n\u001B[0;32m     20\u001B[0m \u001B[38;5;129m@functools\u001B[39m\u001B[38;5;241m.\u001B[39mwraps(fn)\n\u001B[0;32m     21\u001B[0m \u001B[38;5;28;01mdef\u001B[39;00m \u001B[38;5;21minner\u001B[39m(\u001B[38;5;241m*\u001B[39margs, \u001B[38;5;241m*\u001B[39m\u001B[38;5;241m*\u001B[39mkwargs):\n\u001B[0;32m     22\u001B[0m     \u001B[38;5;28;01mimport\u001B[39;00m \u001B[38;5;21;01mtorch\u001B[39;00m\u001B[38;5;21;01m.\u001B[39;00m\u001B[38;5;21;01m_dynamo\u001B[39;00m\n\u001B[1;32m---> 24\u001B[0m     \u001B[38;5;28;01mreturn\u001B[39;00m torch\u001B[38;5;241m.\u001B[39m_dynamo\u001B[38;5;241m.\u001B[39mdisable(fn, recursive)(\u001B[38;5;241m*\u001B[39margs, \u001B[38;5;241m*\u001B[39m\u001B[38;5;241m*\u001B[39mkwargs)\n",
      "File \u001B[1;32m~\\Capstone\\lib\\site-packages\\torch\\_dynamo\\eval_frame.py:328\u001B[0m, in \u001B[0;36m_TorchDynamoContext.__call__.<locals>._fn\u001B[1;34m(*args, **kwargs)\u001B[0m\n\u001B[0;32m    326\u001B[0m dynamic_ctx\u001B[38;5;241m.\u001B[39m\u001B[38;5;21m__enter__\u001B[39m()\n\u001B[0;32m    327\u001B[0m \u001B[38;5;28;01mtry\u001B[39;00m:\n\u001B[1;32m--> 328\u001B[0m     \u001B[38;5;28;01mreturn\u001B[39;00m fn(\u001B[38;5;241m*\u001B[39margs, \u001B[38;5;241m*\u001B[39m\u001B[38;5;241m*\u001B[39mkwargs)\n\u001B[0;32m    329\u001B[0m \u001B[38;5;28;01mfinally\u001B[39;00m:\n\u001B[0;32m    330\u001B[0m     set_eval_frame(prior)\n",
      "File \u001B[1;32m~\\Capstone\\lib\\site-packages\\torch\\optim\\optimizer.py:803\u001B[0m, in \u001B[0;36mOptimizer.zero_grad\u001B[1;34m(self, set_to_none)\u001B[0m\n\u001B[0;32m    800\u001B[0m \u001B[38;5;28;01melse\u001B[39;00m:\n\u001B[0;32m    801\u001B[0m     per_device_and_dtype_grads \u001B[38;5;241m=\u001B[39m \u001B[38;5;28;01mNone\u001B[39;00m\n\u001B[1;32m--> 803\u001B[0m \u001B[38;5;28;01mwith\u001B[39;00m torch\u001B[38;5;241m.\u001B[39mautograd\u001B[38;5;241m.\u001B[39mprofiler\u001B[38;5;241m.\u001B[39mrecord_function(\u001B[38;5;28mself\u001B[39m\u001B[38;5;241m.\u001B[39m_zero_grad_profile_name):\n\u001B[0;32m    804\u001B[0m     \u001B[38;5;28;01mfor\u001B[39;00m group \u001B[38;5;129;01min\u001B[39;00m \u001B[38;5;28mself\u001B[39m\u001B[38;5;241m.\u001B[39mparam_groups:\n\u001B[0;32m    805\u001B[0m         \u001B[38;5;28;01mfor\u001B[39;00m p \u001B[38;5;129;01min\u001B[39;00m group[\u001B[38;5;124m'\u001B[39m\u001B[38;5;124mparams\u001B[39m\u001B[38;5;124m'\u001B[39m]:\n",
      "File \u001B[1;32m~\\Capstone\\lib\\site-packages\\torch\\autograd\\profiler.py:631\u001B[0m, in \u001B[0;36mrecord_function.__enter__\u001B[1;34m(self)\u001B[0m\n\u001B[0;32m    630\u001B[0m \u001B[38;5;28;01mdef\u001B[39;00m \u001B[38;5;21m__enter__\u001B[39m(\u001B[38;5;28mself\u001B[39m):\n\u001B[1;32m--> 631\u001B[0m     \u001B[38;5;28mself\u001B[39m\u001B[38;5;241m.\u001B[39mrecord \u001B[38;5;241m=\u001B[39m \u001B[43mtorch\u001B[49m\u001B[38;5;241;43m.\u001B[39;49m\u001B[43mops\u001B[49m\u001B[38;5;241;43m.\u001B[39;49m\u001B[43mprofiler\u001B[49m\u001B[38;5;241;43m.\u001B[39;49m\u001B[43m_record_function_enter_new\u001B[49m\u001B[43m(\u001B[49m\n\u001B[0;32m    632\u001B[0m \u001B[43m        \u001B[49m\u001B[38;5;28;43mself\u001B[39;49m\u001B[38;5;241;43m.\u001B[39;49m\u001B[43mname\u001B[49m\u001B[43m,\u001B[49m\u001B[43m \u001B[49m\u001B[38;5;28;43mself\u001B[39;49m\u001B[38;5;241;43m.\u001B[39;49m\u001B[43margs\u001B[49m\n\u001B[0;32m    633\u001B[0m \u001B[43m    \u001B[49m\u001B[43m)\u001B[49m\n\u001B[0;32m    634\u001B[0m     \u001B[38;5;28;01mreturn\u001B[39;00m \u001B[38;5;28mself\u001B[39m\n",
      "File \u001B[1;32m~\\Capstone\\lib\\site-packages\\torch\\_ops.py:692\u001B[0m, in \u001B[0;36mOpOverloadPacket.__call__\u001B[1;34m(self, *args, **kwargs)\u001B[0m\n\u001B[0;32m    687\u001B[0m \u001B[38;5;28;01mdef\u001B[39;00m \u001B[38;5;21m__call__\u001B[39m(\u001B[38;5;28mself\u001B[39m, \u001B[38;5;241m*\u001B[39margs, \u001B[38;5;241m*\u001B[39m\u001B[38;5;241m*\u001B[39mkwargs):\n\u001B[0;32m    688\u001B[0m     \u001B[38;5;66;03m# overloading __call__ to ensure torch.ops.foo.bar()\u001B[39;00m\n\u001B[0;32m    689\u001B[0m     \u001B[38;5;66;03m# is still callable from JIT\u001B[39;00m\n\u001B[0;32m    690\u001B[0m     \u001B[38;5;66;03m# We save the function ptr as the `op` attribute on\u001B[39;00m\n\u001B[0;32m    691\u001B[0m     \u001B[38;5;66;03m# OpOverloadPacket to access it here.\u001B[39;00m\n\u001B[1;32m--> 692\u001B[0m     \u001B[38;5;28;01mreturn\u001B[39;00m \u001B[38;5;28mself\u001B[39m\u001B[38;5;241m.\u001B[39m_op(\u001B[38;5;241m*\u001B[39margs, \u001B[38;5;241m*\u001B[39m\u001B[38;5;241m*\u001B[39mkwargs \u001B[38;5;129;01mor\u001B[39;00m {})\n",
      "\u001B[1;31mKeyboardInterrupt\u001B[0m: "
     ]
    }
   ],
   "source": [
    "#Tuning run\n",
    "\n",
    "study = optuna.create_study(direction=\"maximize\")\n",
    "study.optimize(objective, timeout=5*3600, show_progress_bar=True)\n",
    "\n",
    "pruned_trials = study.get_trials(deepcopy=False, states=[TrialState.PRUNED])\n",
    "complete_trials = study.get_trials(deepcopy=False, states=[TrialState.COMPLETE])\n",
    "\n",
    "print(\"Study statistics: \")\n",
    "print(\"  Number of finished trials: \", len(study.trials))\n",
    "print(\"  Number of pruned trials: \", len(pruned_trials))\n",
    "print(\"  Number of complete trials: \", len(complete_trials))\n",
    "\n",
    "print(\"Best trial:\")\n",
    "trial = study.best_trial\n",
    "\n",
    "print(\"  Value: \", trial.value)\n",
    "\n",
    "print(\"  Params: \")\n",
    "for key, value in trial.params.items():\n",
    "    print(\"    {}: {}\".format(key, value))"
   ],
   "metadata": {
    "collapsed": false,
    "ExecuteTime": {
     "end_time": "2024-01-26T21:01:19.596552700Z",
     "start_time": "2024-01-26T21:01:09.243525900Z"
    }
   },
   "id": "cb1cf1d35194e615"
  }
 ],
 "metadata": {
  "kernelspec": {
   "display_name": "Python 3",
   "language": "python",
   "name": "python3"
  },
  "language_info": {
   "codemirror_mode": {
    "name": "ipython",
    "version": 2
   },
   "file_extension": ".py",
   "mimetype": "text/x-python",
   "name": "python",
   "nbconvert_exporter": "python",
   "pygments_lexer": "ipython2",
   "version": "2.7.6"
  }
 },
 "nbformat": 4,
 "nbformat_minor": 5
}
